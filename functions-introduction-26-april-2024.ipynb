{
  "nbformat": 4,
  "nbformat_minor": 0,
  "metadata": {
    "colab": {
      "provenance": [],
      "authorship_tag": "ABX9TyP5gtfS+gKGS6E0lxL3kJ3/",
      "include_colab_link": true
    },
    "kernelspec": {
      "name": "python3",
      "display_name": "Python 3"
    },
    "language_info": {
      "name": "python"
    }
  },
  "cells": [
    {
      "cell_type": "markdown",
      "metadata": {
        "id": "view-in-github",
        "colab_type": "text"
      },
      "source": [
        "<a href=\"https://colab.research.google.com/gist/singhsidhukuldeep/2936e18450b97d88392e57f90234b1ea/functions-introduction-26-april-2024.ipynb\" target=\"_parent\"><img src=\"https://colab.research.google.com/assets/colab-badge.svg\" alt=\"Open In Colab\"/></a>"
      ]
    },
    {
      "cell_type": "markdown",
      "source": [
        "<center>\n",
        "\n",
        "# Functions Introduction - 26 April 2024\n",
        "\n",
        "<img src=\"https://runestone.academy/ns/books/published/fopp/_images/function_calls.gif\" width=\"25%\">"
      ],
      "metadata": {
        "id": "5wUrZ9mQsEds"
      }
    },
    {
      "cell_type": "code",
      "source": [
        "num1 = 10\n",
        "num2 = 25"
      ],
      "metadata": {
        "id": "kujjOlIANnPf"
      },
      "execution_count": null,
      "outputs": []
    },
    {
      "cell_type": "code",
      "execution_count": null,
      "metadata": {
        "id": "JSf7z37YsCsU"
      },
      "outputs": [],
      "source": [
        "# functions\n",
        "# what, why, how\n",
        "# arguments >> positional and keyword\n",
        "# return\n",
        "# scope of variables\n",
        "# lambda"
      ]
    },
    {
      "cell_type": "code",
      "source": [
        "print(\"Clean your room\")\n",
        "print(\"Arrange the living area\")\n",
        "print(\"When they come, touch feet\")\n",
        "print(\"Do not shout\")\n",
        "print(\"Make tea/nimbu pani\")\n",
        "print(\"Get samosas from market\")\n",
        "print(\"reject the money they give while leaving\")"
      ],
      "metadata": {
        "colab": {
          "base_uri": "https://localhost:8080/"
        },
        "id": "o4lJNscbE44-",
        "outputId": "9abcc532-e0cb-4314-c58a-ebfb0ea03dac"
      },
      "execution_count": null,
      "outputs": [
        {
          "output_type": "stream",
          "name": "stdout",
          "text": [
            "Clean your room\n",
            "Arrange the living area\n",
            "When they come, touch feet\n",
            "Do not shout\n",
            "Make tea/nimbu pani\n",
            "Get samosas from market\n",
            "reject the money they give while leaving\n"
          ]
        }
      ]
    },
    {
      "cell_type": "code",
      "source": [
        "def prepare_for_guests():\n",
        "    print(\"Clean your room\")\n",
        "    print(\"Arrange the living area\")\n",
        "    print(\"When they come, touch feet\")\n",
        "    print(\"Do not shout\")\n",
        "    print(\"Make tea/nimbu pani\")\n",
        "    print(\"Get samosas from market\")\n",
        "    print(\"reject the money they give while leaving\")"
      ],
      "metadata": {
        "id": "RHyYq2aNFg03"
      },
      "execution_count": null,
      "outputs": []
    },
    {
      "cell_type": "code",
      "source": [
        "prepare_for_guests()"
      ],
      "metadata": {
        "colab": {
          "base_uri": "https://localhost:8080/"
        },
        "id": "-5kTQrw0GPva",
        "outputId": "f68da3b9-9055-4e7b-e27a-2040b9999292"
      },
      "execution_count": null,
      "outputs": [
        {
          "output_type": "stream",
          "name": "stdout",
          "text": [
            "Clean your room\n",
            "Arrange the living area\n",
            "When they come, touch feet\n",
            "Do not shout\n",
            "Make tea/nimbu pani\n",
            "Get samosas from market\n",
            "reject the money they give while leaving\n"
          ]
        }
      ]
    },
    {
      "cell_type": "code",
      "source": [
        "def make_tea():\n",
        "    print(\"Get some water\")\n",
        "    print(\"Boil the water\")\n",
        "    print(\"add the ingridients: tea leaves\")\n",
        "    sugar = input(\"Do you want sugar [y/n]: \")\n",
        "    if sugar==\"y\":\n",
        "        print(\"add sugar\")\n",
        "    else:\n",
        "        print(\"no sugar for you\")\n",
        "    print(\"add milk\")\n",
        "    print(\"Tea ☕️ is ready\")"
      ],
      "metadata": {
        "id": "m3C1D4TjGW1A"
      },
      "execution_count": null,
      "outputs": []
    },
    {
      "cell_type": "code",
      "source": [
        "print(type(make_tea))"
      ],
      "metadata": {
        "colab": {
          "base_uri": "https://localhost:8080/"
        },
        "id": "gi1qEkDqH_Rs",
        "outputId": "72d2eb03-8016-4a5e-dcef-fc306638197a"
      },
      "execution_count": null,
      "outputs": [
        {
          "output_type": "stream",
          "name": "stdout",
          "text": [
            "<class 'function'>\n"
          ]
        }
      ]
    },
    {
      "cell_type": "code",
      "source": [
        "make_coffee"
      ],
      "metadata": {
        "colab": {
          "base_uri": "https://localhost:8080/",
          "height": 141
        },
        "id": "MSNCV_-TI77p",
        "outputId": "2fdc8ad8-e5a4-4a24-c4ea-730347a758cb"
      },
      "execution_count": null,
      "outputs": [
        {
          "output_type": "error",
          "ename": "NameError",
          "evalue": "name 'make_coffee' is not defined",
          "traceback": [
            "\u001b[0;31m---------------------------------------------------------------------------\u001b[0m",
            "\u001b[0;31mNameError\u001b[0m                                 Traceback (most recent call last)",
            "\u001b[0;32m<ipython-input-9-43d6f9cc95a1>\u001b[0m in \u001b[0;36m<cell line: 1>\u001b[0;34m()\u001b[0m\n\u001b[0;32m----> 1\u001b[0;31m \u001b[0mmake_coffee\u001b[0m\u001b[0;34m\u001b[0m\u001b[0;34m\u001b[0m\u001b[0m\n\u001b[0m",
            "\u001b[0;31mNameError\u001b[0m: name 'make_coffee' is not defined"
          ]
        }
      ]
    },
    {
      "cell_type": "code",
      "source": [
        "make_tea()"
      ],
      "metadata": {
        "colab": {
          "base_uri": "https://localhost:8080/"
        },
        "id": "GZlWIGzpHHM4",
        "outputId": "0e680de2-d4f2-4831-8f0b-89ce7b0f5985"
      },
      "execution_count": null,
      "outputs": [
        {
          "output_type": "stream",
          "name": "stdout",
          "text": [
            "Get some water\n",
            "Boil the water\n",
            "add the ingridients: tea leaves\n",
            "Do you want sugar [y/n]: y\n",
            "add sugar\n",
            "add milk\n",
            "Tea ☕️ is ready\n"
          ]
        }
      ]
    },
    {
      "cell_type": "code",
      "source": [
        "for tea_cup in range(3):\n",
        "    make_tea()"
      ],
      "metadata": {
        "colab": {
          "base_uri": "https://localhost:8080/"
        },
        "id": "NQvS_ZtqHQKj",
        "outputId": "35bec103-a08f-46a7-c2e0-502c586b3f00"
      },
      "execution_count": null,
      "outputs": [
        {
          "output_type": "stream",
          "name": "stdout",
          "text": [
            "Get some water\n",
            "Boil the water\n",
            "add the ingridients: tea leaves\n",
            "Do you want sugar [y/n]: n\n",
            "no sugar for you\n",
            "add milk\n",
            "Tea ☕️ is ready\n",
            "Get some water\n",
            "Boil the water\n",
            "add the ingridients: tea leaves\n",
            "Do you want sugar [y/n]: y\n",
            "add sugar\n",
            "add milk\n",
            "Tea ☕️ is ready\n",
            "Get some water\n",
            "Boil the water\n",
            "add the ingridients: tea leaves\n",
            "Do you want sugar [y/n]: n\n",
            "no sugar for you\n",
            "add milk\n",
            "Tea ☕️ is ready\n"
          ]
        }
      ]
    },
    {
      "cell_type": "code",
      "source": [
        "def greet_people():\n",
        "    print(\"🙏Hello\", \"SIDDHESH\")\n"
      ],
      "metadata": {
        "id": "kDnAGp-sIUyt"
      },
      "execution_count": null,
      "outputs": []
    },
    {
      "cell_type": "code",
      "source": [
        "greet_people()"
      ],
      "metadata": {
        "colab": {
          "base_uri": "https://localhost:8080/"
        },
        "id": "qSuIW04TJmrS",
        "outputId": "27a444da-b116-4c61-8fa2-9a7ec0fcb47e"
      },
      "execution_count": null,
      "outputs": [
        {
          "output_type": "stream",
          "name": "stdout",
          "text": [
            "🙏Hello SIDDHESH\n"
          ]
        }
      ]
    },
    {
      "cell_type": "code",
      "source": [
        "# arguments\n",
        "def greet_people(name_of_person):\n",
        "    print(\"🙏Hello\", name_of_person)"
      ],
      "metadata": {
        "id": "ly2KvACgJn7g"
      },
      "execution_count": null,
      "outputs": []
    },
    {
      "cell_type": "code",
      "source": [
        "greet_people(\"SIDDHESH\")\n",
        "greet_people(\"Roshan\")"
      ],
      "metadata": {
        "colab": {
          "base_uri": "https://localhost:8080/"
        },
        "id": "DZq5PqikKHbm",
        "outputId": "90eccacd-6f3a-4c3d-93d8-24f72ba6d7dc"
      },
      "execution_count": null,
      "outputs": [
        {
          "output_type": "stream",
          "name": "stdout",
          "text": [
            "🙏Hello SIDDHESH\n",
            "🙏Hello Roshan\n"
          ]
        }
      ]
    },
    {
      "cell_type": "code",
      "source": [
        "greet_people()"
      ],
      "metadata": {
        "colab": {
          "base_uri": "https://localhost:8080/",
          "height": 141
        },
        "id": "lsCoruPgJ6dt",
        "outputId": "9779c1fc-3a57-49d8-f3a8-f1bfd01f7fc2"
      },
      "execution_count": null,
      "outputs": [
        {
          "output_type": "error",
          "ename": "TypeError",
          "evalue": "greet_people() missing 1 required positional argument: 'name_of_person'",
          "traceback": [
            "\u001b[0;31m---------------------------------------------------------------------------\u001b[0m",
            "\u001b[0;31mTypeError\u001b[0m                                 Traceback (most recent call last)",
            "\u001b[0;32m<ipython-input-17-bf7d5ec3ad7a>\u001b[0m in \u001b[0;36m<cell line: 1>\u001b[0;34m()\u001b[0m\n\u001b[0;32m----> 1\u001b[0;31m \u001b[0mgreet_people\u001b[0m\u001b[0;34m(\u001b[0m\u001b[0;34m)\u001b[0m\u001b[0;34m\u001b[0m\u001b[0;34m\u001b[0m\u001b[0m\n\u001b[0m",
            "\u001b[0;31mTypeError\u001b[0m: greet_people() missing 1 required positional argument: 'name_of_person'"
          ]
        }
      ]
    },
    {
      "cell_type": "code",
      "source": [
        "def introduce_family(father, mother, brother):\n",
        "    print(\"🙏 Namaste uncle\", father)\n",
        "    print(\"🦶 Namaste aunty\", mother)\n",
        "    print(\"🙌 'sup bro\", brother)"
      ],
      "metadata": {
        "id": "bmvg2XmRKDpv"
      },
      "execution_count": null,
      "outputs": []
    },
    {
      "cell_type": "code",
      "source": [
        "introduce_family(\"Tony stark\",\"Pepper Potts\", \"James Stark\")"
      ],
      "metadata": {
        "colab": {
          "base_uri": "https://localhost:8080/"
        },
        "id": "SOoMxt8iKuFq",
        "outputId": "d05d0b7b-bafb-42db-8e30-9f50b1aecb1f"
      },
      "execution_count": null,
      "outputs": [
        {
          "output_type": "stream",
          "name": "stdout",
          "text": [
            "🙏 Namaste uncle Tony stark\n",
            "🦶 Namaste aunty Pepper Potts\n",
            "🙌 'sup bro James Stark\n"
          ]
        }
      ]
    },
    {
      "cell_type": "code",
      "source": [
        "introduce_family(\"Tony stark\",\"Pepper Potts\")"
      ],
      "metadata": {
        "colab": {
          "base_uri": "https://localhost:8080/",
          "height": 141
        },
        "id": "DL3svJDqKwwH",
        "outputId": "c2fbc2d1-faca-439c-815e-16943e44a066"
      },
      "execution_count": null,
      "outputs": [
        {
          "output_type": "error",
          "ename": "TypeError",
          "evalue": "introduce_family() missing 1 required positional argument: 'brother'",
          "traceback": [
            "\u001b[0;31m---------------------------------------------------------------------------\u001b[0m",
            "\u001b[0;31mTypeError\u001b[0m                                 Traceback (most recent call last)",
            "\u001b[0;32m<ipython-input-23-3794d71d7477>\u001b[0m in \u001b[0;36m<cell line: 1>\u001b[0;34m()\u001b[0m\n\u001b[0;32m----> 1\u001b[0;31m \u001b[0mintroduce_family\u001b[0m\u001b[0;34m(\u001b[0m\u001b[0;34m\"Tony stark\"\u001b[0m\u001b[0;34m,\u001b[0m\u001b[0;34m\"Pepper Potts\"\u001b[0m\u001b[0;34m)\u001b[0m\u001b[0;34m\u001b[0m\u001b[0;34m\u001b[0m\u001b[0m\n\u001b[0m",
            "\u001b[0;31mTypeError\u001b[0m: introduce_family() missing 1 required positional argument: 'brother'"
          ]
        }
      ]
    },
    {
      "cell_type": "code",
      "source": [
        "introduce_family(\"Tony stark\",\"Pepper Potts\", \"James Stark\", \"Thor\")"
      ],
      "metadata": {
        "colab": {
          "base_uri": "https://localhost:8080/",
          "height": 141
        },
        "id": "DMeYcs4ZLIzR",
        "outputId": "9f194003-bf5b-4c60-b849-cc144bd1bb69"
      },
      "execution_count": null,
      "outputs": [
        {
          "output_type": "error",
          "ename": "TypeError",
          "evalue": "introduce_family() takes 3 positional arguments but 4 were given",
          "traceback": [
            "\u001b[0;31m---------------------------------------------------------------------------\u001b[0m",
            "\u001b[0;31mTypeError\u001b[0m                                 Traceback (most recent call last)",
            "\u001b[0;32m<ipython-input-24-396dd1c0a0bf>\u001b[0m in \u001b[0;36m<cell line: 1>\u001b[0;34m()\u001b[0m\n\u001b[0;32m----> 1\u001b[0;31m \u001b[0mintroduce_family\u001b[0m\u001b[0;34m(\u001b[0m\u001b[0;34m\"Tony stark\"\u001b[0m\u001b[0;34m,\u001b[0m\u001b[0;34m\"Pepper Potts\"\u001b[0m\u001b[0;34m,\u001b[0m \u001b[0;34m\"James Stark\"\u001b[0m\u001b[0;34m,\u001b[0m \u001b[0;34m\"Thor\"\u001b[0m\u001b[0;34m)\u001b[0m\u001b[0;34m\u001b[0m\u001b[0;34m\u001b[0m\u001b[0m\n\u001b[0m",
            "\u001b[0;31mTypeError\u001b[0m: introduce_family() takes 3 positional arguments but 4 were given"
          ]
        }
      ]
    },
    {
      "cell_type": "code",
      "source": [
        "# positional argument >> position matters\n",
        "def introduce_family(father, mother, brother):\n",
        "    print(\"🙏 Namaste uncle\", father)\n",
        "    print(\"🦶 Namaste aunty\", mother)\n",
        "    print(\"🙌 'sup bro\", brother)\n",
        "\n",
        "introduce_family(\"Tony stark\",\"Pepper Potts\", \"James Stark\")"
      ],
      "metadata": {
        "colab": {
          "base_uri": "https://localhost:8080/"
        },
        "id": "kDSN0GrkLKaR",
        "outputId": "90d1263b-1baa-4c43-f4b4-89765de4ddeb"
      },
      "execution_count": null,
      "outputs": [
        {
          "output_type": "stream",
          "name": "stdout",
          "text": [
            "🙏 Namaste uncle Tony stark\n",
            "🦶 Namaste aunty Pepper Potts\n",
            "🙌 'sup bro James Stark\n"
          ]
        }
      ]
    },
    {
      "cell_type": "code",
      "source": [
        "introduce_family(\"Tony stark\", \"James Stark\",\"Pepper Potts\")"
      ],
      "metadata": {
        "colab": {
          "base_uri": "https://localhost:8080/"
        },
        "id": "hBennT5rLfX1",
        "outputId": "f06b679c-71ff-450b-bba2-d9433fe2d25b"
      },
      "execution_count": null,
      "outputs": [
        {
          "output_type": "stream",
          "name": "stdout",
          "text": [
            "🙏 Namaste uncle Tony stark\n",
            "🦶 Namaste aunty James Stark\n",
            "🙌 'sup bro Pepper Potts\n"
          ]
        }
      ]
    },
    {
      "cell_type": "code",
      "source": [
        "def totalOF2nums(a,b):\n",
        "    print(a+b)\n",
        "totalOF2nums(5,2)"
      ],
      "metadata": {
        "colab": {
          "base_uri": "https://localhost:8080/"
        },
        "id": "V8X0CPl1LjoJ",
        "outputId": "975a66a5-1e41-40f5-cade-b0b292c92fb7"
      },
      "execution_count": null,
      "outputs": [
        {
          "output_type": "stream",
          "name": "stdout",
          "text": [
            "7\n"
          ]
        }
      ]
    },
    {
      "cell_type": "code",
      "source": [
        "def totalOF2nums(a,b):\n",
        "    print(\"a=\",a, type(a))\n",
        "    print(\"b=\",b, type(b))\n",
        "    print(a+b)\n",
        "num1 = 10\n",
        "num2 = 25\n",
        "totalOF2nums(num1,num2)"
      ],
      "metadata": {
        "colab": {
          "base_uri": "https://localhost:8080/"
        },
        "id": "t-EvDkSJLxzY",
        "outputId": "5a3321ba-d079-4bc2-d1e3-d4c24330b520"
      },
      "execution_count": null,
      "outputs": [
        {
          "output_type": "stream",
          "name": "stdout",
          "text": [
            "a= 10 <class 'int'>\n",
            "b= 25 <class 'int'>\n",
            "35\n"
          ]
        }
      ]
    },
    {
      "cell_type": "code",
      "source": [
        "def func(n):\n",
        "  for i in range(n):\n",
        "    print(\"hello\")"
      ],
      "metadata": {
        "id": "B6nXnFMxL4Cx"
      },
      "execution_count": null,
      "outputs": []
    },
    {
      "cell_type": "code",
      "source": [
        "func(3.0)"
      ],
      "metadata": {
        "colab": {
          "base_uri": "https://localhost:8080/",
          "height": 228
        },
        "id": "Sbb7Wm35MauX",
        "outputId": "e723c2b2-0b7c-4385-9bc9-d5484c9bba10"
      },
      "execution_count": null,
      "outputs": [
        {
          "output_type": "error",
          "ename": "TypeError",
          "evalue": "'float' object cannot be interpreted as an integer",
          "traceback": [
            "\u001b[0;31m---------------------------------------------------------------------------\u001b[0m",
            "\u001b[0;31mTypeError\u001b[0m                                 Traceback (most recent call last)",
            "\u001b[0;32m<ipython-input-31-d801d4a30be3>\u001b[0m in \u001b[0;36m<cell line: 1>\u001b[0;34m()\u001b[0m\n\u001b[0;32m----> 1\u001b[0;31m \u001b[0mfunc\u001b[0m\u001b[0;34m(\u001b[0m\u001b[0;36m3.0\u001b[0m\u001b[0;34m)\u001b[0m\u001b[0;34m\u001b[0m\u001b[0;34m\u001b[0m\u001b[0m\n\u001b[0m",
            "\u001b[0;32m<ipython-input-30-384426a734e0>\u001b[0m in \u001b[0;36mfunc\u001b[0;34m(n)\u001b[0m\n\u001b[1;32m      1\u001b[0m \u001b[0;32mdef\u001b[0m \u001b[0mfunc\u001b[0m\u001b[0;34m(\u001b[0m\u001b[0mn\u001b[0m\u001b[0;34m)\u001b[0m\u001b[0;34m:\u001b[0m\u001b[0;34m\u001b[0m\u001b[0;34m\u001b[0m\u001b[0m\n\u001b[0;32m----> 2\u001b[0;31m   \u001b[0;32mfor\u001b[0m \u001b[0mi\u001b[0m \u001b[0;32min\u001b[0m \u001b[0mrange\u001b[0m\u001b[0;34m(\u001b[0m\u001b[0mn\u001b[0m\u001b[0;34m)\u001b[0m\u001b[0;34m:\u001b[0m\u001b[0;34m\u001b[0m\u001b[0;34m\u001b[0m\u001b[0m\n\u001b[0m\u001b[1;32m      3\u001b[0m     \u001b[0mprint\u001b[0m\u001b[0;34m(\u001b[0m\u001b[0;34m\"hello\"\u001b[0m\u001b[0;34m)\u001b[0m\u001b[0;34m\u001b[0m\u001b[0;34m\u001b[0m\u001b[0m\n",
            "\u001b[0;31mTypeError\u001b[0m: 'float' object cannot be interpreted as an integer"
          ]
        }
      ]
    },
    {
      "cell_type": "code",
      "source": [
        "func(3)"
      ],
      "metadata": {
        "colab": {
          "base_uri": "https://localhost:8080/"
        },
        "id": "6kd-hsgLMeGF",
        "outputId": "0c2a4a6a-d022-4558-fac6-edb4aedbcc5d"
      },
      "execution_count": null,
      "outputs": [
        {
          "output_type": "stream",
          "name": "stdout",
          "text": [
            "hello\n",
            "hello\n",
            "hello\n"
          ]
        }
      ]
    },
    {
      "cell_type": "code",
      "source": [
        "func(\"hello\")"
      ],
      "metadata": {
        "colab": {
          "base_uri": "https://localhost:8080/",
          "height": 228
        },
        "id": "foFUtGMCMeDv",
        "outputId": "860752c7-785e-45f4-d469-08994b3d72e7"
      },
      "execution_count": null,
      "outputs": [
        {
          "output_type": "error",
          "ename": "TypeError",
          "evalue": "'str' object cannot be interpreted as an integer",
          "traceback": [
            "\u001b[0;31m---------------------------------------------------------------------------\u001b[0m",
            "\u001b[0;31mTypeError\u001b[0m                                 Traceback (most recent call last)",
            "\u001b[0;32m<ipython-input-33-ff8da1aa79a6>\u001b[0m in \u001b[0;36m<cell line: 1>\u001b[0;34m()\u001b[0m\n\u001b[0;32m----> 1\u001b[0;31m \u001b[0mfunc\u001b[0m\u001b[0;34m(\u001b[0m\u001b[0;34m\"hello\"\u001b[0m\u001b[0;34m)\u001b[0m\u001b[0;34m\u001b[0m\u001b[0;34m\u001b[0m\u001b[0m\n\u001b[0m",
            "\u001b[0;32m<ipython-input-30-384426a734e0>\u001b[0m in \u001b[0;36mfunc\u001b[0;34m(n)\u001b[0m\n\u001b[1;32m      1\u001b[0m \u001b[0;32mdef\u001b[0m \u001b[0mfunc\u001b[0m\u001b[0;34m(\u001b[0m\u001b[0mn\u001b[0m\u001b[0;34m)\u001b[0m\u001b[0;34m:\u001b[0m\u001b[0;34m\u001b[0m\u001b[0;34m\u001b[0m\u001b[0m\n\u001b[0;32m----> 2\u001b[0;31m   \u001b[0;32mfor\u001b[0m \u001b[0mi\u001b[0m \u001b[0;32min\u001b[0m \u001b[0mrange\u001b[0m\u001b[0;34m(\u001b[0m\u001b[0mn\u001b[0m\u001b[0;34m)\u001b[0m\u001b[0;34m:\u001b[0m\u001b[0;34m\u001b[0m\u001b[0;34m\u001b[0m\u001b[0m\n\u001b[0m\u001b[1;32m      3\u001b[0m     \u001b[0mprint\u001b[0m\u001b[0;34m(\u001b[0m\u001b[0;34m\"hello\"\u001b[0m\u001b[0;34m)\u001b[0m\u001b[0;34m\u001b[0m\u001b[0;34m\u001b[0m\u001b[0m\n",
            "\u001b[0;31mTypeError\u001b[0m: 'str' object cannot be interpreted as an integer"
          ]
        }
      ]
    },
    {
      "cell_type": "code",
      "source": [
        "# for emojis 😂\n",
        "# windows >> wind+.\n",
        "# mac: ^+command+space"
      ],
      "metadata": {
        "id": "omi_9Ts5MeBa"
      },
      "execution_count": null,
      "outputs": []
    },
    {
      "cell_type": "code",
      "source": [
        "def totalOF2nums(a,b):\n",
        "    print(a+b)\n",
        "totalOF2nums(5,2)"
      ],
      "metadata": {
        "colab": {
          "base_uri": "https://localhost:8080/"
        },
        "id": "e3hk1Wk1OBck",
        "outputId": "cbbad8a8-e3fe-4473-8889-856aa48aefa7"
      },
      "execution_count": null,
      "outputs": [
        {
          "output_type": "stream",
          "name": "stdout",
          "text": [
            "7\n"
          ]
        }
      ]
    },
    {
      "cell_type": "code",
      "source": [
        "def totalOF2nums(a,b):\n",
        "    return a+b\n",
        "total = totalOF2nums(5,2)\n",
        "print(\"total was\", total)"
      ],
      "metadata": {
        "colab": {
          "base_uri": "https://localhost:8080/"
        },
        "id": "7LGj_CkdONP7",
        "outputId": "513589e3-9ee5-4826-fdca-d369f79cb404"
      },
      "execution_count": null,
      "outputs": [
        {
          "output_type": "stream",
          "name": "stdout",
          "text": [
            "total was 7\n"
          ]
        }
      ]
    },
    {
      "cell_type": "code",
      "source": [
        "print(total*100)"
      ],
      "metadata": {
        "colab": {
          "base_uri": "https://localhost:8080/"
        },
        "id": "NqwpDKF5Obrl",
        "outputId": "c471adc7-82fb-4120-9d3b-aec947e94221"
      },
      "execution_count": null,
      "outputs": [
        {
          "output_type": "stream",
          "name": "stdout",
          "text": [
            "700\n"
          ]
        }
      ]
    },
    {
      "cell_type": "code",
      "source": [
        "# a python function can have as many returns as it wants\n",
        "def isItOdd(num):\n",
        "    if num%2==0:\n",
        "        return \"It was even\"\n",
        "    else:\n",
        "        return \"It was odd\"\n",
        "func_gave_me = isItOdd(5)\n",
        "print(\"this is what was returned:\", func_gave_me)\n",
        "func_gave_me = isItOdd(6)\n",
        "print(\"this is what was returned:\", func_gave_me)"
      ],
      "metadata": {
        "colab": {
          "base_uri": "https://localhost:8080/"
        },
        "id": "gqQ7iCRSOhAK",
        "outputId": "f16b292c-bc0b-4ee1-f9c6-c4514742fddf"
      },
      "execution_count": null,
      "outputs": [
        {
          "output_type": "stream",
          "name": "stdout",
          "text": [
            "this is what was returned: It was odd\n",
            "this is what was returned: It was even\n"
          ]
        }
      ]
    },
    {
      "cell_type": "code",
      "source": [
        "# a python function can have as many returns as it wants\n",
        "# once a return is triggered, it leaves the function\n",
        "# in a single python function calll, only one return gets triggered\n",
        "def isItOdd(num):\n",
        "    if num%2==0:\n",
        "        return \"this looks even\"\n",
        "        return \"It was even\"\n",
        "    else:\n",
        "        return \"wow that's odd\"\n",
        "        return \"It was odd\"\n",
        "func_gave_me = isItOdd(5)\n",
        "print(\"this is what was returned:\", func_gave_me)\n",
        "func_gave_me = isItOdd(6)\n",
        "print(\"this is what was returned:\", func_gave_me)"
      ],
      "metadata": {
        "colab": {
          "base_uri": "https://localhost:8080/"
        },
        "id": "n8clIQa0O2Wi",
        "outputId": "645617dd-e02c-4bbf-eb5f-2832aae9f194"
      },
      "execution_count": null,
      "outputs": [
        {
          "output_type": "stream",
          "name": "stdout",
          "text": [
            "this is what was returned: wow that's odd\n",
            "this is what was returned: this looks even\n"
          ]
        }
      ]
    },
    {
      "cell_type": "code",
      "source": [
        "# returning multiple values, to be done in DS\n",
        "def totalOF2nums(a,b):\n",
        "    return a+b, a*b\n",
        "total = totalOF2nums(5,2)\n",
        "print(\"total was\", total)"
      ],
      "metadata": {
        "colab": {
          "base_uri": "https://localhost:8080/"
        },
        "id": "xU_hKxEvPKVp",
        "outputId": "f3dcf737-94dd-40ed-9380-3f76b55abd4b"
      },
      "execution_count": null,
      "outputs": [
        {
          "output_type": "stream",
          "name": "stdout",
          "text": [
            "total was (7, 10)\n"
          ]
        }
      ]
    },
    {
      "cell_type": "code",
      "source": [
        "print(type(print))"
      ],
      "metadata": {
        "colab": {
          "base_uri": "https://localhost:8080/"
        },
        "id": "94QzXg7wPi6X",
        "outputId": "ab000357-744b-40f1-d067-3190155a87a2"
      },
      "execution_count": null,
      "outputs": [
        {
          "output_type": "stream",
          "name": "stdout",
          "text": [
            "<class 'builtin_function_or_method'>\n"
          ]
        }
      ]
    },
    {
      "cell_type": "code",
      "source": [
        "thisIsWhatPrintGaveMe = print(\"🤯\")"
      ],
      "metadata": {
        "colab": {
          "base_uri": "https://localhost:8080/"
        },
        "id": "fWlijWHgPvcz",
        "outputId": "385fc1fb-62dd-4536-c962-f82e3e28882a"
      },
      "execution_count": null,
      "outputs": [
        {
          "output_type": "stream",
          "name": "stdout",
          "text": [
            "🤯\n"
          ]
        }
      ]
    },
    {
      "cell_type": "code",
      "source": [
        "print(thisIsWhatPrintGaveMe)"
      ],
      "metadata": {
        "colab": {
          "base_uri": "https://localhost:8080/"
        },
        "id": "fbuvP-N9P1Fi",
        "outputId": "ea8fd804-d1a3-48a1-8661-bb79197f630f"
      },
      "execution_count": null,
      "outputs": [
        {
          "output_type": "stream",
          "name": "stdout",
          "text": [
            "None\n"
          ]
        }
      ]
    },
    {
      "cell_type": "code",
      "source": [
        "a  = 5\n",
        "b = 6\n",
        "c,d = a,b\n",
        "print(c)\n",
        "print(d)"
      ],
      "metadata": {
        "colab": {
          "base_uri": "https://localhost:8080/"
        },
        "id": "e5LMmln1QWYZ",
        "outputId": "75bcbb99-fe7d-4218-ac04-653e7fd00c5a"
      },
      "execution_count": null,
      "outputs": [
        {
          "output_type": "stream",
          "name": "stdout",
          "text": [
            "5\n",
            "6\n"
          ]
        }
      ]
    },
    {
      "cell_type": "code",
      "source": [
        "a  = 5\n",
        "b = 6\n",
        "c,d = a+1,b+5\n",
        "print(c)\n",
        "print(d)"
      ],
      "metadata": {
        "colab": {
          "base_uri": "https://localhost:8080/"
        },
        "id": "BT8hTdMoReVx",
        "outputId": "082ab079-25a1-4b13-9e2f-98ad9998efba"
      },
      "execution_count": null,
      "outputs": [
        {
          "output_type": "stream",
          "name": "stdout",
          "text": [
            "6\n",
            "11\n"
          ]
        }
      ]
    },
    {
      "cell_type": "code",
      "source": [
        "# positional argument >> position matters\n",
        "def introduce_family(father, mother, brother):\n",
        "    print(\"🙏 Namaste uncle\", father)\n",
        "    print(\"🦶 Namaste aunty\", mother)\n",
        "    print(\"🙌 'sup bro\", brother)\n",
        "\n",
        "introduce_family(\"Tony stark\",\"Pepper Potts\", \"James Stark\")"
      ],
      "metadata": {
        "colab": {
          "base_uri": "https://localhost:8080/"
        },
        "id": "QY3U-M0uRiTB",
        "outputId": "205d7d28-8432-4dca-e809-b74e0bd4464f"
      },
      "execution_count": null,
      "outputs": [
        {
          "output_type": "stream",
          "name": "stdout",
          "text": [
            "🙏 Namaste uncle Tony stark\n",
            "🦶 Namaste aunty Pepper Potts\n",
            "🙌 'sup bro James Stark\n"
          ]
        }
      ]
    },
    {
      "cell_type": "code",
      "source": [
        "introduce_family(\"Tony stark\", \"James Stark\",\"Pepper Potts\")"
      ],
      "metadata": {
        "colab": {
          "base_uri": "https://localhost:8080/"
        },
        "id": "9qyWEoWxTv61",
        "outputId": "9878e974-54bb-4fa2-f6bf-f76149cbd5f0"
      },
      "execution_count": null,
      "outputs": [
        {
          "output_type": "stream",
          "name": "stdout",
          "text": [
            "🙏 Namaste uncle Tony stark\n",
            "🦶 Namaste aunty James Stark\n",
            "🙌 'sup bro Pepper Potts\n"
          ]
        }
      ]
    },
    {
      "cell_type": "code",
      "source": [
        "# keyword arguments>> order doesnot matter\n",
        "introduce_family(father=\"Tony stark\", brother=\"James Stark\",mother=\"Pepper Potts\")"
      ],
      "metadata": {
        "colab": {
          "base_uri": "https://localhost:8080/"
        },
        "id": "OVjVZF8_TzYy",
        "outputId": "13bcac43-eba8-41de-980a-819e7fe91768"
      },
      "execution_count": null,
      "outputs": [
        {
          "output_type": "stream",
          "name": "stdout",
          "text": [
            "🙏 Namaste uncle Tony stark\n",
            "🦶 Namaste aunty Pepper Potts\n",
            "🙌 'sup bro James Stark\n"
          ]
        }
      ]
    },
    {
      "cell_type": "code",
      "source": [
        "def yoo(a,b,c,d):\n",
        "    print(\"a = \", a)\n",
        "    print(\"b = \", b)\n",
        "    print(\"c = \", c)\n",
        "    print(\"d = \", d)\n",
        "    print(\"---------\")"
      ],
      "metadata": {
        "id": "i6PX96PDUL25"
      },
      "execution_count": null,
      "outputs": []
    },
    {
      "cell_type": "code",
      "source": [
        "yoo(\"a\", \"b\",\"c\", \"d\") # positional\n",
        "yoo(\"a\", \"b\", \"d\",\"c\")\n",
        "yoo(a = \"a\", b=\"b\", d=\"d\",c=\"c\") # keyword arguments\n",
        "yoo(\"a\", \"b\", d=\"d\",c=\"c\")"
      ],
      "metadata": {
        "colab": {
          "base_uri": "https://localhost:8080/"
        },
        "id": "K0K4LXqRUXFI",
        "outputId": "398e1ce4-5a24-4bf6-cd1e-07f1d46a34e7"
      },
      "execution_count": null,
      "outputs": [
        {
          "output_type": "stream",
          "name": "stdout",
          "text": [
            "a =  a\n",
            "b =  b\n",
            "c =  c\n",
            "d =  d\n",
            "---------\n",
            "a =  a\n",
            "b =  b\n",
            "c =  d\n",
            "d =  c\n",
            "---------\n",
            "a =  a\n",
            "b =  b\n",
            "c =  c\n",
            "d =  d\n",
            "---------\n",
            "a =  a\n",
            "b =  b\n",
            "c =  c\n",
            "d =  d\n",
            "---------\n"
          ]
        }
      ]
    },
    {
      "cell_type": "code",
      "source": [
        "def yoo(a,b,c,d):\n",
        "    print(\"a = \", a)\n",
        "    print(\"b = \", b)\n",
        "    print(\"c = \", c)\n",
        "    print(\"d = \", d)\n",
        "    print(\"---------\")\n",
        "yoo(\"a\", \"b\", d=\"d\",a=\"c\")"
      ],
      "metadata": {
        "colab": {
          "base_uri": "https://localhost:8080/",
          "height": 176
        },
        "id": "ski0-ReLUi7L",
        "outputId": "ab4f2624-4eba-4d33-d6da-014d7315e976"
      },
      "execution_count": null,
      "outputs": [
        {
          "output_type": "error",
          "ename": "TypeError",
          "evalue": "yoo() got multiple values for argument 'a'",
          "traceback": [
            "\u001b[0;31m---------------------------------------------------------------------------\u001b[0m",
            "\u001b[0;31mTypeError\u001b[0m                                 Traceback (most recent call last)",
            "\u001b[0;32m<ipython-input-62-660c702aca41>\u001b[0m in \u001b[0;36m<cell line: 7>\u001b[0;34m()\u001b[0m\n\u001b[1;32m      5\u001b[0m     \u001b[0mprint\u001b[0m\u001b[0;34m(\u001b[0m\u001b[0;34m\"d = \"\u001b[0m\u001b[0;34m,\u001b[0m \u001b[0md\u001b[0m\u001b[0;34m)\u001b[0m\u001b[0;34m\u001b[0m\u001b[0;34m\u001b[0m\u001b[0m\n\u001b[1;32m      6\u001b[0m     \u001b[0mprint\u001b[0m\u001b[0;34m(\u001b[0m\u001b[0;34m\"---------\"\u001b[0m\u001b[0;34m)\u001b[0m\u001b[0;34m\u001b[0m\u001b[0;34m\u001b[0m\u001b[0m\n\u001b[0;32m----> 7\u001b[0;31m \u001b[0myoo\u001b[0m\u001b[0;34m(\u001b[0m\u001b[0;34m\"a\"\u001b[0m\u001b[0;34m,\u001b[0m \u001b[0;34m\"b\"\u001b[0m\u001b[0;34m,\u001b[0m \u001b[0md\u001b[0m\u001b[0;34m=\u001b[0m\u001b[0;34m\"d\"\u001b[0m\u001b[0;34m,\u001b[0m\u001b[0ma\u001b[0m\u001b[0;34m=\u001b[0m\u001b[0;34m\"c\"\u001b[0m\u001b[0;34m)\u001b[0m\u001b[0;34m\u001b[0m\u001b[0;34m\u001b[0m\u001b[0m\n\u001b[0m",
            "\u001b[0;31mTypeError\u001b[0m: yoo() got multiple values for argument 'a'"
          ]
        }
      ]
    },
    {
      "cell_type": "code",
      "source": [
        "def yoo(a,b,c,d):\n",
        "    print(\"a = \", a)\n",
        "    print(\"b = \", b)\n",
        "    print(\"c = \", c)\n",
        "    print(\"d = \", d)\n",
        "    print(\"---------\")\n",
        "yoo(\"a\", d=\"d\",c=\"c\",\"b\")"
      ],
      "metadata": {
        "colab": {
          "base_uri": "https://localhost:8080/",
          "height": 106
        },
        "id": "OdgUAOrdVGf6",
        "outputId": "a407a8e8-13ca-4e19-fd98-a4ed44804f83"
      },
      "execution_count": null,
      "outputs": [
        {
          "output_type": "error",
          "ename": "SyntaxError",
          "evalue": "positional argument follows keyword argument (<ipython-input-63-43099ebf59d9>, line 7)",
          "traceback": [
            "\u001b[0;36m  File \u001b[0;32m\"<ipython-input-63-43099ebf59d9>\"\u001b[0;36m, line \u001b[0;32m7\u001b[0m\n\u001b[0;31m    yoo(\"a\", d=\"d\",c=\"c\",\"b\")\u001b[0m\n\u001b[0m                            ^\u001b[0m\n\u001b[0;31mSyntaxError\u001b[0m\u001b[0;31m:\u001b[0m positional argument follows keyword argument\n"
          ]
        }
      ]
    },
    {
      "cell_type": "code",
      "source": [
        "def simple_interest(p, t, r):\n",
        "    interest = p*r*t/100\n",
        "    return interest\n",
        "\n",
        "simple_interest(100, 2, 7.5)"
      ],
      "metadata": {
        "colab": {
          "base_uri": "https://localhost:8080/"
        },
        "id": "gb4Ku_NNVK71",
        "outputId": "01b4094a-22e6-4747-efe2-f1e5010fb8ea"
      },
      "execution_count": null,
      "outputs": [
        {
          "output_type": "execute_result",
          "data": {
            "text/plain": [
              "15.0"
            ]
          },
          "metadata": {},
          "execution_count": 64
        }
      ]
    },
    {
      "cell_type": "code",
      "source": [
        "def simple_interest(p, t, r=5): # default arguments\n",
        "    interest = p*r*t/100\n",
        "    return interest\n",
        "\n",
        "simple_interest(100, 2)"
      ],
      "metadata": {
        "colab": {
          "base_uri": "https://localhost:8080/"
        },
        "id": "OEuqvt8QVeH0",
        "outputId": "e48df529-d485-4951-bbf7-e50e5676d1ab"
      },
      "execution_count": null,
      "outputs": [
        {
          "output_type": "execute_result",
          "data": {
            "text/plain": [
              "10.0"
            ]
          },
          "metadata": {},
          "execution_count": 65
        }
      ]
    },
    {
      "cell_type": "code",
      "source": [
        "simple_interest(100, 2, 7.5)"
      ],
      "metadata": {
        "colab": {
          "base_uri": "https://localhost:8080/"
        },
        "id": "HnR_cE8vVwKJ",
        "outputId": "5673039a-96ce-4384-ba68-49c6a210bf1e"
      },
      "execution_count": null,
      "outputs": [
        {
          "output_type": "execute_result",
          "data": {
            "text/plain": [
              "15.0"
            ]
          },
          "metadata": {},
          "execution_count": 66
        }
      ]
    },
    {
      "cell_type": "code",
      "source": [
        "def simple_interest(p, r=5, t): # default arguments\n",
        "    interest = p*r*t/100\n",
        "    return interest\n",
        "\n",
        "simple_interest(100, 2)"
      ],
      "metadata": {
        "colab": {
          "base_uri": "https://localhost:8080/",
          "height": 106
        },
        "id": "agpH-izhVy6q",
        "outputId": "e1380312-5daf-4123-dc77-6c2e762517cc"
      },
      "execution_count": null,
      "outputs": [
        {
          "output_type": "error",
          "ename": "SyntaxError",
          "evalue": "non-default argument follows default argument (<ipython-input-67-05ae4bf0c642>, line 1)",
          "traceback": [
            "\u001b[0;36m  File \u001b[0;32m\"<ipython-input-67-05ae4bf0c642>\"\u001b[0;36m, line \u001b[0;32m1\u001b[0m\n\u001b[0;31m    def simple_interest(p, r=5, t): # default arguments\u001b[0m\n\u001b[0m                                ^\u001b[0m\n\u001b[0;31mSyntaxError\u001b[0m\u001b[0;31m:\u001b[0m non-default argument follows default argument\n"
          ]
        }
      ]
    },
    {
      "cell_type": "code",
      "source": [
        "def multiply(num1=3, num2):\n",
        "    return num1 * num2\n",
        "\n",
        "print(multiply(2, 4))"
      ],
      "metadata": {
        "colab": {
          "base_uri": "https://localhost:8080/",
          "height": 106
        },
        "id": "v5rnqO_3WDKo",
        "outputId": "e921627a-0474-405d-b758-5b8487496040"
      },
      "execution_count": null,
      "outputs": [
        {
          "output_type": "error",
          "ename": "SyntaxError",
          "evalue": "non-default argument follows default argument (<ipython-input-68-f42fbf0805a4>, line 1)",
          "traceback": [
            "\u001b[0;36m  File \u001b[0;32m\"<ipython-input-68-f42fbf0805a4>\"\u001b[0;36m, line \u001b[0;32m1\u001b[0m\n\u001b[0;31m    def multiply(num1=3, num2):\u001b[0m\n\u001b[0m                         ^\u001b[0m\n\u001b[0;31mSyntaxError\u001b[0m\u001b[0;31m:\u001b[0m non-default argument follows default argument\n"
          ]
        }
      ]
    },
    {
      "cell_type": "code",
      "source": [
        "def multiply(num2, num1=3):\n",
        "    return num1 * num2\n",
        "\n",
        "print(multiply(2, 4))"
      ],
      "metadata": {
        "colab": {
          "base_uri": "https://localhost:8080/"
        },
        "id": "3bycoDjEXDdG",
        "outputId": "58c809c7-0cd4-4d4f-95f7-2809c17c0039"
      },
      "execution_count": null,
      "outputs": [
        {
          "output_type": "stream",
          "name": "stdout",
          "text": [
            "8\n"
          ]
        }
      ]
    },
    {
      "cell_type": "code",
      "source": [
        "def simple_interest(p=1000, t=20, r=5): # default arguments\n",
        "    interest = p*r*t/100\n",
        "    return interest\n",
        "\n",
        "print(simple_interest(100, 2))"
      ],
      "metadata": {
        "colab": {
          "base_uri": "https://localhost:8080/"
        },
        "id": "KvK2NV5iWeTd",
        "outputId": "072d4de2-ee53-425b-e167-fbe163398413"
      },
      "execution_count": null,
      "outputs": [
        {
          "output_type": "stream",
          "name": "stdout",
          "text": [
            "10.0\n"
          ]
        }
      ]
    },
    {
      "cell_type": "code",
      "source": [
        "def make_tea(sugar=\"y\"):\n",
        "    print(\"Get some water\")\n",
        "    print(\"Boil the water\")\n",
        "    print(\"add the ingridients: tea leaves\")\n",
        "    # sugar = input(\"Do you want sugar [y/n]: \")\n",
        "    if sugar==\"y\":\n",
        "        print(\"add sugar\")\n",
        "    else:\n",
        "        print(\"no sugar for you\")\n",
        "    print(\"add milk\")\n",
        "    print(\"Tea ☕️ is ready\")"
      ],
      "metadata": {
        "id": "3AcZBHSqWlHe"
      },
      "execution_count": null,
      "outputs": []
    },
    {
      "cell_type": "code",
      "source": [
        "make_tea()"
      ],
      "metadata": {
        "colab": {
          "base_uri": "https://localhost:8080/"
        },
        "id": "SOvzZ1bGW6xC",
        "outputId": "c34bfe2f-3ffb-42bd-b68e-143d79acbd5a"
      },
      "execution_count": null,
      "outputs": [
        {
          "output_type": "stream",
          "name": "stdout",
          "text": [
            "Get some water\n",
            "Boil the water\n",
            "add the ingridients: tea leaves\n",
            "add sugar\n",
            "add milk\n",
            "Tea ☕️ is ready\n"
          ]
        }
      ]
    },
    {
      "cell_type": "code",
      "source": [
        "make_tea(\"n\")"
      ],
      "metadata": {
        "colab": {
          "base_uri": "https://localhost:8080/"
        },
        "id": "48j1Nn-KW79M",
        "outputId": "4ac9d0ca-49f5-4f6a-d60d-65c5248c45ab"
      },
      "execution_count": null,
      "outputs": [
        {
          "output_type": "stream",
          "name": "stdout",
          "text": [
            "Get some water\n",
            "Boil the water\n",
            "add the ingridients: tea leaves\n",
            "no sugar for you\n",
            "add milk\n",
            "Tea ☕️ is ready\n"
          ]
        }
      ]
    },
    {
      "cell_type": "code",
      "source": [
        "# scope of vars"
      ],
      "metadata": {
        "id": "PxsGY7J9W_Fn"
      },
      "execution_count": null,
      "outputs": []
    },
    {
      "cell_type": "code",
      "source": [
        "chef_of_the_house = \"mom\" # global var\n",
        "print(\"chef_of_the_house before the function is\", chef_of_the_house)\n",
        "\n",
        "def change_the_chef():\n",
        "    chef_of_the_house=\"dad\" # local var\n",
        "    print(\"chef_of_the_house inside the function is\", chef_of_the_house)\n",
        "\n",
        "change_the_chef()\n",
        "print(\"chef_of_the_house after the function is\", chef_of_the_house)\n"
      ],
      "metadata": {
        "colab": {
          "base_uri": "https://localhost:8080/"
        },
        "id": "shCeSVuxXRWR",
        "outputId": "4532e721-ee76-456b-a87f-88604ebe204f"
      },
      "execution_count": null,
      "outputs": [
        {
          "output_type": "stream",
          "name": "stdout",
          "text": [
            "chef_of_the_house before the function is mom\n",
            "chef_of_the_house inside the function is dad\n",
            "chef_of_the_house after the function is mom\n"
          ]
        }
      ]
    },
    {
      "cell_type": "code",
      "source": [
        "chef_of_the_house = \"mom\" # global var\n",
        "print(\"chef_of_the_house before the function is\", chef_of_the_house)\n",
        "\n",
        "def change_the_chef():\n",
        "    global chef_of_the_house\n",
        "    chef_of_the_house=\"dad\" # no longer local var, it's global\n",
        "    print(\"chef_of_the_house inside the function is\", chef_of_the_house)\n",
        "\n",
        "change_the_chef()\n",
        "print(\"chef_of_the_house after the function is\", chef_of_the_house)\n"
      ],
      "metadata": {
        "colab": {
          "base_uri": "https://localhost:8080/"
        },
        "id": "ql7mgZNVXnav",
        "outputId": "585b0794-ae7b-47ff-c7fb-a634c8e020db"
      },
      "execution_count": null,
      "outputs": [
        {
          "output_type": "stream",
          "name": "stdout",
          "text": [
            "chef_of_the_house before the function is mom\n",
            "chef_of_the_house inside the function is dad\n",
            "chef_of_the_house after the function is dad\n"
          ]
        }
      ]
    },
    {
      "cell_type": "code",
      "source": [
        "def function(var):\n",
        "    print(var)\n",
        "\n",
        "function(3)\n",
        "\n",
        "var = 5\n",
        "function(var)"
      ],
      "metadata": {
        "colab": {
          "base_uri": "https://localhost:8080/"
        },
        "id": "DJ79q5GFX-s6",
        "outputId": "099bbe8e-bfbc-4a24-8be0-b60d809be2f8"
      },
      "execution_count": null,
      "outputs": [
        {
          "output_type": "stream",
          "name": "stdout",
          "text": [
            "3\n",
            "5\n"
          ]
        }
      ]
    },
    {
      "cell_type": "code",
      "source": [
        "chef_of_the_house = \"mom\" # global var\n",
        "print(\"chef_of_the_house before the function is\", chef_of_the_house)\n",
        "\n",
        "def who_is_the_chef():\n",
        "    # if there is no local var, look in global\n",
        "    print(\"chef_of_the_house inside the function is\", chef_of_the_house)\n",
        "\n",
        "who_is_the_chef()\n",
        "print(\"chef_of_the_house after the function is\", chef_of_the_house)\n"
      ],
      "metadata": {
        "colab": {
          "base_uri": "https://localhost:8080/"
        },
        "id": "haaXn_wsYxV5",
        "outputId": "ba9575a9-baa4-44af-eabd-d85550eb68e1"
      },
      "execution_count": null,
      "outputs": [
        {
          "output_type": "stream",
          "name": "stdout",
          "text": [
            "chef_of_the_house before the function is mom\n",
            "chef_of_the_house inside the function is mom\n",
            "chef_of_the_house after the function is mom\n"
          ]
        }
      ]
    },
    {
      "cell_type": "code",
      "source": [
        "# lambda function\n",
        "# they are simple python functions, that are one liner\n",
        "\n",
        "def squarrer(num):\n",
        "    return num*num\n",
        "print(squarrer(5))"
      ],
      "metadata": {
        "colab": {
          "base_uri": "https://localhost:8080/"
        },
        "id": "6qRh8MuAaJ0T",
        "outputId": "d6dbc073-255f-40ee-9cf6-dd2c18a42832"
      },
      "execution_count": null,
      "outputs": [
        {
          "output_type": "stream",
          "name": "stdout",
          "text": [
            "25\n"
          ]
        }
      ]
    },
    {
      "cell_type": "code",
      "source": [
        "#                 lambda inp: outputs\n",
        "squarrer_lambda = lambda num : num*num\n",
        "print(squarrer_lambda(5))"
      ],
      "metadata": {
        "colab": {
          "base_uri": "https://localhost:8080/"
        },
        "id": "3_PIAKT3abU9",
        "outputId": "d1326caf-37ca-47c1-8a26-ccd13a655bea"
      },
      "execution_count": null,
      "outputs": [
        {
          "output_type": "stream",
          "name": "stdout",
          "text": [
            "25\n"
          ]
        }
      ]
    },
    {
      "cell_type": "code",
      "source": [
        "print(type(squarrer))\n",
        "print(type(squarrer_lambda))"
      ],
      "metadata": {
        "colab": {
          "base_uri": "https://localhost:8080/"
        },
        "id": "fAVInubyaoRW",
        "outputId": "1864a729-44d9-4e65-f459-e5127179104d"
      },
      "execution_count": null,
      "outputs": [
        {
          "output_type": "stream",
          "name": "stdout",
          "text": [
            "<class 'function'>\n",
            "<class 'function'>\n"
          ]
        }
      ]
    },
    {
      "cell_type": "code",
      "source": [
        "def totalOF2nums(a,b):\n",
        "    return a+b\n",
        "\n",
        "print(totalOF2nums(5,2))"
      ],
      "metadata": {
        "colab": {
          "base_uri": "https://localhost:8080/"
        },
        "id": "eHTTTLcGasvB",
        "outputId": "74afad06-0fe9-4e60-9c46-acf3e9ea3392"
      },
      "execution_count": null,
      "outputs": [
        {
          "output_type": "stream",
          "name": "stdout",
          "text": [
            "7\n"
          ]
        }
      ]
    },
    {
      "cell_type": "code",
      "source": [
        "#                        lambda inp: outputs\n",
        "totalOF2nums_one_liner = lambda a,b : a+b\n",
        "print(totalOF2nums_one_liner(5,2))"
      ],
      "metadata": {
        "colab": {
          "base_uri": "https://localhost:8080/"
        },
        "id": "Q5K8xUsXa7ri",
        "outputId": "81522206-d57d-4213-fd96-b50a58744a81"
      },
      "execution_count": null,
      "outputs": [
        {
          "output_type": "stream",
          "name": "stdout",
          "text": [
            "7\n"
          ]
        }
      ]
    },
    {
      "cell_type": "code",
      "source": [
        "def totalOF2nums(a,b):\n",
        "    return a+b\n",
        "print(\"func start\")\n",
        "output = totalOF2nums(5,2)\n",
        "print(output)\n",
        "print(\"func end\")"
      ],
      "metadata": {
        "colab": {
          "base_uri": "https://localhost:8080/"
        },
        "id": "00MGB37ybMyL",
        "outputId": "d724353b-9148-4a1f-a83d-8af6f1efb137"
      },
      "execution_count": null,
      "outputs": [
        {
          "output_type": "stream",
          "name": "stdout",
          "text": [
            "func start\n",
            "7\n",
            "func end\n"
          ]
        }
      ]
    },
    {
      "cell_type": "code",
      "source": [
        "def totalOF2nums(a,b):\n",
        "    return a+b\n",
        "print(\"func start\")\n",
        "print(totalOF2nums(5,2))\n",
        "print(\"func end\")"
      ],
      "metadata": {
        "colab": {
          "base_uri": "https://localhost:8080/"
        },
        "id": "icZnocpdbg_S",
        "outputId": "b2655d34-3627-4fc0-907d-833316957687"
      },
      "execution_count": null,
      "outputs": [
        {
          "output_type": "stream",
          "name": "stdout",
          "text": [
            "func start\n",
            "7\n",
            "func end\n"
          ]
        }
      ]
    },
    {
      "cell_type": "code",
      "source": [
        "#         lambda_func ()\n",
        "(lambda num : num*num)(5)"
      ],
      "metadata": {
        "colab": {
          "base_uri": "https://localhost:8080/"
        },
        "id": "8hY3W19Fbn28",
        "outputId": "c368ddfa-998b-43fa-df0d-ac99d620289b"
      },
      "execution_count": null,
      "outputs": [
        {
          "output_type": "execute_result",
          "data": {
            "text/plain": [
              "25"
            ]
          },
          "metadata": {},
          "execution_count": 87
        }
      ]
    },
    {
      "cell_type": "code",
      "source": [
        "#     lambda_func ()\n",
        "(lambda a,b : a+b)(5,10)"
      ],
      "metadata": {
        "colab": {
          "base_uri": "https://localhost:8080/"
        },
        "id": "Af7u3RPfb8x-",
        "outputId": "0dd355a2-205d-4fc9-a223-4a6c84cc4a55"
      },
      "execution_count": null,
      "outputs": [
        {
          "output_type": "execute_result",
          "data": {
            "text/plain": [
              "15"
            ]
          },
          "metadata": {},
          "execution_count": 89
        }
      ]
    },
    {
      "cell_type": "code",
      "source": [
        "# anonymous functions/no name functions"
      ],
      "metadata": {
        "id": "ZSLvD0eecBpg"
      },
      "execution_count": null,
      "outputs": []
    },
    {
      "cell_type": "code",
      "source": [
        "# lambda inp: outputs\n",
        "(lambda : print(\"Hello Scaler\"))(\"Scaler\")"
      ],
      "metadata": {
        "colab": {
          "base_uri": "https://localhost:8080/",
          "height": 159
        },
        "id": "r8SjFRcmcTUu",
        "outputId": "8bcb29b7-b26a-4d96-f225-48a47c969745"
      },
      "execution_count": null,
      "outputs": [
        {
          "output_type": "error",
          "ename": "TypeError",
          "evalue": "<lambda>() takes 0 positional arguments but 1 was given",
          "traceback": [
            "\u001b[0;31m---------------------------------------------------------------------------\u001b[0m",
            "\u001b[0;31mTypeError\u001b[0m                                 Traceback (most recent call last)",
            "\u001b[0;32m<ipython-input-90-c625a12a28eb>\u001b[0m in \u001b[0;36m<cell line: 2>\u001b[0;34m()\u001b[0m\n\u001b[1;32m      1\u001b[0m \u001b[0;31m# lambda inp: outputs\u001b[0m\u001b[0;34m\u001b[0m\u001b[0;34m\u001b[0m\u001b[0m\n\u001b[0;32m----> 2\u001b[0;31m \u001b[0;34m(\u001b[0m\u001b[0;32mlambda\u001b[0m \u001b[0;34m:\u001b[0m \u001b[0mprint\u001b[0m\u001b[0;34m(\u001b[0m\u001b[0;34m\"Hello Scaler\"\u001b[0m\u001b[0;34m)\u001b[0m\u001b[0;34m)\u001b[0m\u001b[0;34m(\u001b[0m\u001b[0;34m\"Scaler\"\u001b[0m\u001b[0;34m)\u001b[0m\u001b[0;34m\u001b[0m\u001b[0;34m\u001b[0m\u001b[0m\n\u001b[0m",
            "\u001b[0;31mTypeError\u001b[0m: <lambda>() takes 0 positional arguments but 1 was given"
          ]
        }
      ]
    },
    {
      "cell_type": "code",
      "source": [
        "(lambda : print(\"Hello Scaler\"))()"
      ],
      "metadata": {
        "colab": {
          "base_uri": "https://localhost:8080/"
        },
        "id": "Xzo6SgrgcozC",
        "outputId": "67c200b9-12fe-44e7-e5cb-634f44f37ed2"
      },
      "execution_count": null,
      "outputs": [
        {
          "output_type": "stream",
          "name": "stdout",
          "text": [
            "Hello Scaler\n"
          ]
        }
      ]
    },
    {
      "cell_type": "code",
      "source": [
        "def simple_interest(p, r=10, t):\n",
        "    si = p*r*t/100\n",
        "    return si\n",
        "simple_interest(100, 10, 20)"
      ],
      "metadata": {
        "colab": {
          "base_uri": "https://localhost:8080/",
          "height": 106
        },
        "id": "EaENr3IAcrQy",
        "outputId": "719462e2-3272-4379-aa14-aa8878a68353"
      },
      "execution_count": null,
      "outputs": [
        {
          "output_type": "error",
          "ename": "SyntaxError",
          "evalue": "non-default argument follows default argument (<ipython-input-92-02fad2db4b43>, line 1)",
          "traceback": [
            "\u001b[0;36m  File \u001b[0;32m\"<ipython-input-92-02fad2db4b43>\"\u001b[0;36m, line \u001b[0;32m1\u001b[0m\n\u001b[0;31m    def simple_interest(p, r=10, t):\u001b[0m\n\u001b[0m                                 ^\u001b[0m\n\u001b[0;31mSyntaxError\u001b[0m\u001b[0;31m:\u001b[0m non-default argument follows default argument\n"
          ]
        }
      ]
    },
    {
      "cell_type": "code",
      "source": [
        "# Rahul\n",
        "# Please help with loops 2 assignment question Problem Description\n",
        "# You are given an integer A as input and you need to determine whether it is a palindrome or not.\n",
        "# A palindrome integer is one whose digits, when reversed, result in the same number.\n",
        "# For example, 121 is a palindrome because its reverse is also 121, but 123 is not a palindrome because its reverse is 321. Note: The given integer will not have any leading zeros.\n",
        "\n",
        "num = 123\n",
        "original_num = num\n",
        "reverse_num = 0\n",
        "\n",
        "while num!=0:\n",
        "    last_digit = num%10\n",
        "    num = num//10\n",
        "    reverse_num = reverse_num*10 + last_digit\n",
        "print(original_num, reverse_num)"
      ],
      "metadata": {
        "id": "IpMLlrgKduKP",
        "outputId": "26ad5558-e72a-455a-ae76-01e4f1e20ee7",
        "colab": {
          "base_uri": "https://localhost:8080/"
        }
      },
      "execution_count": 1,
      "outputs": [
        {
          "output_type": "stream",
          "name": "stdout",
          "text": [
            "123 321\n"
          ]
        }
      ]
    },
    {
      "cell_type": "code",
      "source": [],
      "metadata": {
        "id": "q_NdZrwGe8L6"
      },
      "execution_count": null,
      "outputs": []
    }
  ]
}